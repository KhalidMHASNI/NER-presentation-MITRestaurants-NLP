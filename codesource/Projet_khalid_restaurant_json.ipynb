{
  "nbformat": 4,
  "nbformat_minor": 0,
  "metadata": {
    "colab": {
      "provenance": []
    },
    "kernelspec": {
      "name": "python3",
      "display_name": "Python 3"
    },
    "language_info": {
      "name": "python"
    }
  },
  "cells": [
    {
      "cell_type": "markdown",
      "source": [
        "# Importation des bibliothèques"
      ],
      "metadata": {
        "id": "tiycv_ys69U5"
      }
    },
    {
      "cell_type": "code",
      "source": [
        "import pandas as pd\n",
        "import numpy as np\n",
        "import string\n",
        "import json\n",
        "import seaborn as sns\n",
        "import matplotlib.pyplot as plt\n",
        "import nltk\n",
        "from nltk.tokenize import word_tokenize\n",
        "from sklearn.model_selection import train_test_split\n",
        "from sklearn.metrics import accuracy_score\n",
        "from sklearn.feature_extraction.text import TfidfVectorizer\n",
        "from sklearn.linear_model import LogisticRegression\n",
        "from sklearn.metrics import classification_report, confusion_matrix\n",
        "from sklearn.ensemble import RandomForestClassifier\n",
        "from sklearn.metrics import classification_report, confusion_matrix\n",
        "\n",
        "nltk.download('averaged_perceptron_tagger')\n",
        "nltk.download('maxent_ne_chunker')\n",
        "nltk.download('words')\n",
        "nltk.download('punkt')\n",
        "nltk.download('stopwords')\n",
        "nltk.download('wordnet')"
      ],
      "metadata": {
        "colab": {
          "base_uri": "https://localhost:8080/"
        },
        "id": "0WZRV0lvnewx",
        "outputId": "2ff43ec4-cfb7-4ef8-a4ee-25d2c4473ee7"
      },
      "execution_count": null,
      "outputs": [
        {
          "output_type": "stream",
          "name": "stderr",
          "text": [
            "[nltk_data] Downloading package averaged_perceptron_tagger to\n",
            "[nltk_data]     /root/nltk_data...\n",
            "[nltk_data]   Package averaged_perceptron_tagger is already up-to-\n",
            "[nltk_data]       date!\n",
            "[nltk_data] Downloading package maxent_ne_chunker to\n",
            "[nltk_data]     /root/nltk_data...\n",
            "[nltk_data]   Package maxent_ne_chunker is already up-to-date!\n",
            "[nltk_data] Downloading package words to /root/nltk_data...\n",
            "[nltk_data]   Package words is already up-to-date!\n",
            "[nltk_data] Downloading package punkt to /root/nltk_data...\n",
            "[nltk_data]   Package punkt is already up-to-date!\n",
            "[nltk_data] Downloading package stopwords to /root/nltk_data...\n",
            "[nltk_data]   Package stopwords is already up-to-date!\n",
            "[nltk_data] Downloading package wordnet to /root/nltk_data...\n",
            "[nltk_data]   Package wordnet is already up-to-date!\n"
          ]
        },
        {
          "output_type": "execute_result",
          "data": {
            "text/plain": [
              "True"
            ]
          },
          "metadata": {},
          "execution_count": 20
        }
      ]
    },
    {
      "cell_type": "markdown",
      "source": [
        "# Data Preparation"
      ],
      "metadata": {
        "id": "SqwSpH907Y2Q"
      }
    },
    {
      "cell_type": "code",
      "source": [
        "# Load the JSON file\n",
        "with open('train.json', 'r') as f:\n",
        "    data = f.readlines()\n",
        "\n",
        "# Parse each line as JSON and create a list of dictionaries\n",
        "rows = []\n",
        "for line in data:\n",
        "    d = json.loads(line)\n",
        "    for i, token in enumerate(d['tokens']):\n",
        "        row = {'Word': token, 'Tag': d['tags'][i]}\n",
        "        rows.append(row)\n",
        "\n",
        "# Create a DataFrame from the list of dictionaries\n",
        "df = pd.DataFrame(rows)\n"
      ],
      "metadata": {
        "id": "PM0ad1XcoGsk"
      },
      "execution_count": null,
      "outputs": []
    },
    {
      "cell_type": "code",
      "source": [
        "df"
      ],
      "metadata": {
        "colab": {
          "base_uri": "https://localhost:8080/",
          "height": 424
        },
        "id": "5jsB767YoGpU",
        "outputId": "c2cc996b-fd67-41cb-c5d0-d89e7f9cc17a"
      },
      "execution_count": null,
      "outputs": [
        {
          "output_type": "execute_result",
          "data": {
            "text/plain": [
              "             Word  Tag\n",
              "0             can    0\n",
              "1             you    0\n",
              "2            find    0\n",
              "3              me    0\n",
              "4             the    0\n",
              "...           ...  ...\n",
              "63264         you    0\n",
              "63265        look    0\n",
              "63266         for    0\n",
              "63267           a    0\n",
              "63268  restaurant    0\n",
              "\n",
              "[63269 rows x 2 columns]"
            ],
            "text/html": [
              "\n",
              "  <div id=\"df-78f9ad5a-b767-4d8a-9457-7efbcb36bc2d\">\n",
              "    <div class=\"colab-df-container\">\n",
              "      <div>\n",
              "<style scoped>\n",
              "    .dataframe tbody tr th:only-of-type {\n",
              "        vertical-align: middle;\n",
              "    }\n",
              "\n",
              "    .dataframe tbody tr th {\n",
              "        vertical-align: top;\n",
              "    }\n",
              "\n",
              "    .dataframe thead th {\n",
              "        text-align: right;\n",
              "    }\n",
              "</style>\n",
              "<table border=\"1\" class=\"dataframe\">\n",
              "  <thead>\n",
              "    <tr style=\"text-align: right;\">\n",
              "      <th></th>\n",
              "      <th>Word</th>\n",
              "      <th>Tag</th>\n",
              "    </tr>\n",
              "  </thead>\n",
              "  <tbody>\n",
              "    <tr>\n",
              "      <th>0</th>\n",
              "      <td>can</td>\n",
              "      <td>0</td>\n",
              "    </tr>\n",
              "    <tr>\n",
              "      <th>1</th>\n",
              "      <td>you</td>\n",
              "      <td>0</td>\n",
              "    </tr>\n",
              "    <tr>\n",
              "      <th>2</th>\n",
              "      <td>find</td>\n",
              "      <td>0</td>\n",
              "    </tr>\n",
              "    <tr>\n",
              "      <th>3</th>\n",
              "      <td>me</td>\n",
              "      <td>0</td>\n",
              "    </tr>\n",
              "    <tr>\n",
              "      <th>4</th>\n",
              "      <td>the</td>\n",
              "      <td>0</td>\n",
              "    </tr>\n",
              "    <tr>\n",
              "      <th>...</th>\n",
              "      <td>...</td>\n",
              "      <td>...</td>\n",
              "    </tr>\n",
              "    <tr>\n",
              "      <th>63264</th>\n",
              "      <td>you</td>\n",
              "      <td>0</td>\n",
              "    </tr>\n",
              "    <tr>\n",
              "      <th>63265</th>\n",
              "      <td>look</td>\n",
              "      <td>0</td>\n",
              "    </tr>\n",
              "    <tr>\n",
              "      <th>63266</th>\n",
              "      <td>for</td>\n",
              "      <td>0</td>\n",
              "    </tr>\n",
              "    <tr>\n",
              "      <th>63267</th>\n",
              "      <td>a</td>\n",
              "      <td>0</td>\n",
              "    </tr>\n",
              "    <tr>\n",
              "      <th>63268</th>\n",
              "      <td>restaurant</td>\n",
              "      <td>0</td>\n",
              "    </tr>\n",
              "  </tbody>\n",
              "</table>\n",
              "<p>63269 rows × 2 columns</p>\n",
              "</div>\n",
              "      <button class=\"colab-df-convert\" onclick=\"convertToInteractive('df-78f9ad5a-b767-4d8a-9457-7efbcb36bc2d')\"\n",
              "              title=\"Convert this dataframe to an interactive table.\"\n",
              "              style=\"display:none;\">\n",
              "        \n",
              "  <svg xmlns=\"http://www.w3.org/2000/svg\" height=\"24px\"viewBox=\"0 0 24 24\"\n",
              "       width=\"24px\">\n",
              "    <path d=\"M0 0h24v24H0V0z\" fill=\"none\"/>\n",
              "    <path d=\"M18.56 5.44l.94 2.06.94-2.06 2.06-.94-2.06-.94-.94-2.06-.94 2.06-2.06.94zm-11 1L8.5 8.5l.94-2.06 2.06-.94-2.06-.94L8.5 2.5l-.94 2.06-2.06.94zm10 10l.94 2.06.94-2.06 2.06-.94-2.06-.94-.94-2.06-.94 2.06-2.06.94z\"/><path d=\"M17.41 7.96l-1.37-1.37c-.4-.4-.92-.59-1.43-.59-.52 0-1.04.2-1.43.59L10.3 9.45l-7.72 7.72c-.78.78-.78 2.05 0 2.83L4 21.41c.39.39.9.59 1.41.59.51 0 1.02-.2 1.41-.59l7.78-7.78 2.81-2.81c.8-.78.8-2.07 0-2.86zM5.41 20L4 18.59l7.72-7.72 1.47 1.35L5.41 20z\"/>\n",
              "  </svg>\n",
              "      </button>\n",
              "      \n",
              "  <style>\n",
              "    .colab-df-container {\n",
              "      display:flex;\n",
              "      flex-wrap:wrap;\n",
              "      gap: 12px;\n",
              "    }\n",
              "\n",
              "    .colab-df-convert {\n",
              "      background-color: #E8F0FE;\n",
              "      border: none;\n",
              "      border-radius: 50%;\n",
              "      cursor: pointer;\n",
              "      display: none;\n",
              "      fill: #1967D2;\n",
              "      height: 32px;\n",
              "      padding: 0 0 0 0;\n",
              "      width: 32px;\n",
              "    }\n",
              "\n",
              "    .colab-df-convert:hover {\n",
              "      background-color: #E2EBFA;\n",
              "      box-shadow: 0px 1px 2px rgba(60, 64, 67, 0.3), 0px 1px 3px 1px rgba(60, 64, 67, 0.15);\n",
              "      fill: #174EA6;\n",
              "    }\n",
              "\n",
              "    [theme=dark] .colab-df-convert {\n",
              "      background-color: #3B4455;\n",
              "      fill: #D2E3FC;\n",
              "    }\n",
              "\n",
              "    [theme=dark] .colab-df-convert:hover {\n",
              "      background-color: #434B5C;\n",
              "      box-shadow: 0px 1px 3px 1px rgba(0, 0, 0, 0.15);\n",
              "      filter: drop-shadow(0px 1px 2px rgba(0, 0, 0, 0.3));\n",
              "      fill: #FFFFFF;\n",
              "    }\n",
              "  </style>\n",
              "\n",
              "      <script>\n",
              "        const buttonEl =\n",
              "          document.querySelector('#df-78f9ad5a-b767-4d8a-9457-7efbcb36bc2d button.colab-df-convert');\n",
              "        buttonEl.style.display =\n",
              "          google.colab.kernel.accessAllowed ? 'block' : 'none';\n",
              "\n",
              "        async function convertToInteractive(key) {\n",
              "          const element = document.querySelector('#df-78f9ad5a-b767-4d8a-9457-7efbcb36bc2d');\n",
              "          const dataTable =\n",
              "            await google.colab.kernel.invokeFunction('convertToInteractive',\n",
              "                                                     [key], {});\n",
              "          if (!dataTable) return;\n",
              "\n",
              "          const docLinkHtml = 'Like what you see? Visit the ' +\n",
              "            '<a target=\"_blank\" href=https://colab.research.google.com/notebooks/data_table.ipynb>data table notebook</a>'\n",
              "            + ' to learn more about interactive tables.';\n",
              "          element.innerHTML = '';\n",
              "          dataTable['output_type'] = 'display_data';\n",
              "          await google.colab.output.renderOutput(dataTable, element);\n",
              "          const docLink = document.createElement('div');\n",
              "          docLink.innerHTML = docLinkHtml;\n",
              "          element.appendChild(docLink);\n",
              "        }\n",
              "      </script>\n",
              "    </div>\n",
              "  </div>\n",
              "  "
            ]
          },
          "metadata": {},
          "execution_count": 14
        }
      ]
    },
    {
      "cell_type": "code",
      "source": [
        "label = []\n",
        "with open('label.json', 'r') as f:\n",
        "    for line in f:\n",
        "        label.append(json.loads(line))\n",
        "\n",
        "tag_to_entity = label[0]\n",
        "tag_to_entity\n"
      ],
      "metadata": {
        "colab": {
          "base_uri": "https://localhost:8080/"
        },
        "id": "AsEFZW1a8wI1",
        "outputId": "77536ef7-285f-41b2-f926-7468bdd1016d"
      },
      "execution_count": null,
      "outputs": [
        {
          "output_type": "execute_result",
          "data": {
            "text/plain": [
              "{'O': 0,\n",
              " 'B-Rating': 1,\n",
              " 'I-Rating': 2,\n",
              " 'B-Amenity': 3,\n",
              " 'I-Amenity': 4,\n",
              " 'B-Location': 5,\n",
              " 'I-Location': 6,\n",
              " 'B-Restaurant_Name': 7,\n",
              " 'I-Restaurant_Name': 8,\n",
              " 'B-Price': 9,\n",
              " 'B-Hours': 10,\n",
              " 'I-Hours': 11,\n",
              " 'B-Dish': 12,\n",
              " 'I-Dish': 13,\n",
              " 'B-Cuisine': 14,\n",
              " 'I-Price': 15,\n",
              " 'I-Cuisine': 16}"
            ]
          },
          "metadata": {},
          "execution_count": 36
        }
      ]
    },
    {
      "cell_type": "code",
      "source": [
        "# Load the JSON file\n",
        "with open('test.json', 'r') as f:\n",
        "    data = f.readlines()\n",
        "\n",
        "# Parse each line as JSON and create a list of dictionaries\n",
        "rows = []\n",
        "for line in data:\n",
        "    d = json.loads(line)\n",
        "    for i, token in enumerate(d['tokens']):\n",
        "        row = {'Word': token, 'Tag': d['tags'][i]}\n",
        "        rows.append(row)\n",
        "\n",
        "# Create a DataFrame from the list of dictionaries\n",
        "df_test = pd.DataFrame(rows)\n",
        "df_test"
      ],
      "metadata": {
        "colab": {
          "base_uri": "https://localhost:8080/",
          "height": 424
        },
        "id": "-eDHYR4bYaBA",
        "outputId": "e3cd0103-d561-4785-d8de-106ecb863fee"
      },
      "execution_count": null,
      "outputs": [
        {
          "output_type": "execute_result",
          "data": {
            "text/plain": [
              "             Word  Tag\n",
              "0               a    0\n",
              "1            four    1\n",
              "2            star    2\n",
              "3      restaurant    0\n",
              "4            with    5\n",
              "...           ...  ...\n",
              "14251          me    0\n",
              "14252        with    0\n",
              "14253        some    0\n",
              "14254       onion   12\n",
              "14255       rings   13\n",
              "\n",
              "[14256 rows x 2 columns]"
            ],
            "text/html": [
              "\n",
              "  <div id=\"df-081fddfb-e661-4f83-a454-ee00bb5a1b7e\">\n",
              "    <div class=\"colab-df-container\">\n",
              "      <div>\n",
              "<style scoped>\n",
              "    .dataframe tbody tr th:only-of-type {\n",
              "        vertical-align: middle;\n",
              "    }\n",
              "\n",
              "    .dataframe tbody tr th {\n",
              "        vertical-align: top;\n",
              "    }\n",
              "\n",
              "    .dataframe thead th {\n",
              "        text-align: right;\n",
              "    }\n",
              "</style>\n",
              "<table border=\"1\" class=\"dataframe\">\n",
              "  <thead>\n",
              "    <tr style=\"text-align: right;\">\n",
              "      <th></th>\n",
              "      <th>Word</th>\n",
              "      <th>Tag</th>\n",
              "    </tr>\n",
              "  </thead>\n",
              "  <tbody>\n",
              "    <tr>\n",
              "      <th>0</th>\n",
              "      <td>a</td>\n",
              "      <td>0</td>\n",
              "    </tr>\n",
              "    <tr>\n",
              "      <th>1</th>\n",
              "      <td>four</td>\n",
              "      <td>1</td>\n",
              "    </tr>\n",
              "    <tr>\n",
              "      <th>2</th>\n",
              "      <td>star</td>\n",
              "      <td>2</td>\n",
              "    </tr>\n",
              "    <tr>\n",
              "      <th>3</th>\n",
              "      <td>restaurant</td>\n",
              "      <td>0</td>\n",
              "    </tr>\n",
              "    <tr>\n",
              "      <th>4</th>\n",
              "      <td>with</td>\n",
              "      <td>5</td>\n",
              "    </tr>\n",
              "    <tr>\n",
              "      <th>...</th>\n",
              "      <td>...</td>\n",
              "      <td>...</td>\n",
              "    </tr>\n",
              "    <tr>\n",
              "      <th>14251</th>\n",
              "      <td>me</td>\n",
              "      <td>0</td>\n",
              "    </tr>\n",
              "    <tr>\n",
              "      <th>14252</th>\n",
              "      <td>with</td>\n",
              "      <td>0</td>\n",
              "    </tr>\n",
              "    <tr>\n",
              "      <th>14253</th>\n",
              "      <td>some</td>\n",
              "      <td>0</td>\n",
              "    </tr>\n",
              "    <tr>\n",
              "      <th>14254</th>\n",
              "      <td>onion</td>\n",
              "      <td>12</td>\n",
              "    </tr>\n",
              "    <tr>\n",
              "      <th>14255</th>\n",
              "      <td>rings</td>\n",
              "      <td>13</td>\n",
              "    </tr>\n",
              "  </tbody>\n",
              "</table>\n",
              "<p>14256 rows × 2 columns</p>\n",
              "</div>\n",
              "      <button class=\"colab-df-convert\" onclick=\"convertToInteractive('df-081fddfb-e661-4f83-a454-ee00bb5a1b7e')\"\n",
              "              title=\"Convert this dataframe to an interactive table.\"\n",
              "              style=\"display:none;\">\n",
              "        \n",
              "  <svg xmlns=\"http://www.w3.org/2000/svg\" height=\"24px\"viewBox=\"0 0 24 24\"\n",
              "       width=\"24px\">\n",
              "    <path d=\"M0 0h24v24H0V0z\" fill=\"none\"/>\n",
              "    <path d=\"M18.56 5.44l.94 2.06.94-2.06 2.06-.94-2.06-.94-.94-2.06-.94 2.06-2.06.94zm-11 1L8.5 8.5l.94-2.06 2.06-.94-2.06-.94L8.5 2.5l-.94 2.06-2.06.94zm10 10l.94 2.06.94-2.06 2.06-.94-2.06-.94-.94-2.06-.94 2.06-2.06.94z\"/><path d=\"M17.41 7.96l-1.37-1.37c-.4-.4-.92-.59-1.43-.59-.52 0-1.04.2-1.43.59L10.3 9.45l-7.72 7.72c-.78.78-.78 2.05 0 2.83L4 21.41c.39.39.9.59 1.41.59.51 0 1.02-.2 1.41-.59l7.78-7.78 2.81-2.81c.8-.78.8-2.07 0-2.86zM5.41 20L4 18.59l7.72-7.72 1.47 1.35L5.41 20z\"/>\n",
              "  </svg>\n",
              "      </button>\n",
              "      \n",
              "  <style>\n",
              "    .colab-df-container {\n",
              "      display:flex;\n",
              "      flex-wrap:wrap;\n",
              "      gap: 12px;\n",
              "    }\n",
              "\n",
              "    .colab-df-convert {\n",
              "      background-color: #E8F0FE;\n",
              "      border: none;\n",
              "      border-radius: 50%;\n",
              "      cursor: pointer;\n",
              "      display: none;\n",
              "      fill: #1967D2;\n",
              "      height: 32px;\n",
              "      padding: 0 0 0 0;\n",
              "      width: 32px;\n",
              "    }\n",
              "\n",
              "    .colab-df-convert:hover {\n",
              "      background-color: #E2EBFA;\n",
              "      box-shadow: 0px 1px 2px rgba(60, 64, 67, 0.3), 0px 1px 3px 1px rgba(60, 64, 67, 0.15);\n",
              "      fill: #174EA6;\n",
              "    }\n",
              "\n",
              "    [theme=dark] .colab-df-convert {\n",
              "      background-color: #3B4455;\n",
              "      fill: #D2E3FC;\n",
              "    }\n",
              "\n",
              "    [theme=dark] .colab-df-convert:hover {\n",
              "      background-color: #434B5C;\n",
              "      box-shadow: 0px 1px 3px 1px rgba(0, 0, 0, 0.15);\n",
              "      filter: drop-shadow(0px 1px 2px rgba(0, 0, 0, 0.3));\n",
              "      fill: #FFFFFF;\n",
              "    }\n",
              "  </style>\n",
              "\n",
              "      <script>\n",
              "        const buttonEl =\n",
              "          document.querySelector('#df-081fddfb-e661-4f83-a454-ee00bb5a1b7e button.colab-df-convert');\n",
              "        buttonEl.style.display =\n",
              "          google.colab.kernel.accessAllowed ? 'block' : 'none';\n",
              "\n",
              "        async function convertToInteractive(key) {\n",
              "          const element = document.querySelector('#df-081fddfb-e661-4f83-a454-ee00bb5a1b7e');\n",
              "          const dataTable =\n",
              "            await google.colab.kernel.invokeFunction('convertToInteractive',\n",
              "                                                     [key], {});\n",
              "          if (!dataTable) return;\n",
              "\n",
              "          const docLinkHtml = 'Like what you see? Visit the ' +\n",
              "            '<a target=\"_blank\" href=https://colab.research.google.com/notebooks/data_table.ipynb>data table notebook</a>'\n",
              "            + ' to learn more about interactive tables.';\n",
              "          element.innerHTML = '';\n",
              "          dataTable['output_type'] = 'display_data';\n",
              "          await google.colab.output.renderOutput(dataTable, element);\n",
              "          const docLink = document.createElement('div');\n",
              "          docLink.innerHTML = docLinkHtml;\n",
              "          element.appendChild(docLink);\n",
              "        }\n",
              "      </script>\n",
              "    </div>\n",
              "  </div>\n",
              "  "
            ]
          },
          "metadata": {},
          "execution_count": 6
        }
      ]
    },
    {
      "cell_type": "markdown",
      "source": [
        "# Vectorization and Training and Evaluating"
      ],
      "metadata": {
        "id": "RGtvpVN57cNY"
      }
    },
    {
      "cell_type": "code",
      "source": [
        "# The code uses a TfidfVectorizer to transform the training data (df['Word']) into feature vectors (X_train) and gets the corresponding labels (y_train). \n",
        "# It also transforms the testing data (df_test['Word']) into feature vectors (X_test) and gets the corresponding labels (y_test).\n",
        "\n",
        "# The code trains a random forest classifier (clf) on the training data (X_train, y_train).\n",
        "\n",
        "# The code predicts the labels for the testing data using the trained classifier (clf.predict(X_test)) and evaluates the model's performance using classification_report. \n",
        "# It calculates the confusion matrix (cm) and visualizes it using a heatmap."
      ],
      "metadata": {
        "id": "Q83UL3qy8LgW"
      },
      "execution_count": null,
      "outputs": []
    },
    {
      "cell_type": "code",
      "source": [
        "# Create a CountVectorizer or TfidfVectorizer object\n",
        "vectorizer = TfidfVectorizer()  \n",
        "\n",
        "# Transform the training data into feature vectors\n",
        "X_train = vectorizer.fit_transform(df['Word'])\n",
        "\n",
        "# Get the corresponding labels for the training data\n",
        "y_train = df['Tag']\n",
        "\n",
        "# Train a random forest model on the training data\n",
        "clf = RandomForestClassifier(n_estimators=1000, random_state=42)\n",
        "clf.fit(X_train, y_train)\n",
        "\n",
        "# Transform the testing data into feature vectors\n",
        "X_test = vectorizer.transform(df_test['Word'])\n",
        "\n",
        "# Get the corresponding labels for the testing data\n",
        "y_test = df_test['Tag']\n",
        "\n",
        "# Evaluate the model on the testing data\n",
        "y_pred = clf.predict(X_test)\n",
        "print(classification_report(y_test, y_pred))\n"
      ],
      "metadata": {
        "id": "ZIILloBz6dN2",
        "colab": {
          "base_uri": "https://localhost:8080/"
        },
        "outputId": "90ff7e16-4316-412a-e5ea-38c99925c3cd"
      },
      "execution_count": null,
      "outputs": [
        {
          "output_type": "stream",
          "name": "stdout",
          "text": [
            "              precision    recall  f1-score   support\n",
            "\n",
            "           0       0.86      0.96      0.91      8659\n",
            "           1       0.66      0.79      0.72       201\n",
            "           2       0.80      0.60      0.68       125\n",
            "           3       0.67      0.59      0.63       533\n",
            "           4       0.59      0.52      0.55       524\n",
            "           5       0.86      0.70      0.77       812\n",
            "           6       0.72      0.57      0.64       788\n",
            "           7       0.81      0.57      0.67       402\n",
            "           8       0.82      0.38      0.51       392\n",
            "           9       0.69      0.71      0.70       171\n",
            "          10       0.60      0.73      0.66       212\n",
            "          11       0.65      0.46      0.54       295\n",
            "          12       0.55      0.58      0.57       288\n",
            "          13       0.46      0.39      0.42       121\n",
            "          14       0.78      0.75      0.77       532\n",
            "          15       0.53      0.15      0.24        66\n",
            "          16       0.56      0.18      0.27       135\n",
            "\n",
            "    accuracy                           0.81     14256\n",
            "   macro avg       0.68      0.57      0.60     14256\n",
            "weighted avg       0.80      0.81      0.80     14256\n",
            "\n"
          ]
        }
      ]
    },
    {
      "cell_type": "code",
      "source": [
        "# Calculate the confusion matrix\n",
        "cm = confusion_matrix(y_test, y_pred)\n",
        "\n",
        "# Define the classes of your data\n",
        "classes = {\"O\": 0, \"B-Rating\": 1, \"I-Rating\": 2, \"B-Amenity\": 3, \"I-Amenity\": 4, \"B-Location\": 5, \"I-Location\": 6,\n",
        "           \"B-Restaurant_Name\": 7, \"I-Restaurant_Name\": 8, \"B-Price\": 9, \"B-Hours\": 10, \"I-Hours\": 11,\n",
        "           \"B-Dish\": 12, \"I-Dish\": 13, \"B-Cuisine\": 14, \"I-Price\": 15, \"I-Cuisine\": 16}\n",
        "\n",
        "# Create a heatmap of the confusion matrix\n",
        "sns.heatmap(cm, annot=True, fmt='d', cmap='Purples', xticklabels=classes, yticklabels=classes)\n",
        "\n",
        "# Set the title and axis labels\n",
        "plt.title('Confusion Matrix')\n",
        "plt.ylabel('True Label')\n",
        "plt.xlabel('Predicted Label')\n",
        "\n",
        "# Display the plot\n",
        "plt.show()"
      ],
      "metadata": {
        "colab": {
          "base_uri": "https://localhost:8080/",
          "height": 596
        },
        "id": "g5zOLEeRwo0h",
        "outputId": "6f6a15b3-a14c-4f49-d889-f97fb8b8e802"
      },
      "execution_count": null,
      "outputs": [
        {
          "output_type": "display_data",
          "data": {
            "text/plain": [
              "<Figure size 640x480 with 2 Axes>"
            ],
            "image/png": "[encoded data removed]"
          },
          "metadata": {}
        }
      ]
    },
    {
      "cell_type": "markdown",
      "source": [
        "# Saving the Model"
      ],
      "metadata": {
        "id": "THdniQ167mYH"
      }
    },
    {
      "cell_type": "code",
      "source": [
        "import joblib\n",
        "joblib.dump((clf, vectorizer), 'mit_restaurant2.pkl')\n"
      ],
      "metadata": {
        "colab": {
          "base_uri": "https://localhost:8080/"
        },
        "id": "1jbvVxmOxHBe",
        "outputId": "0c228a4e-f77b-4a2f-c7d3-3746f6e78260"
      },
      "execution_count": null,
      "outputs": [
        {
          "output_type": "execute_result",
          "data": {
            "text/plain": [
              "['mit_restaurant2.pkl']"
            ]
          },
          "metadata": {},
          "execution_count": 23
        }
      ]
    },
    {
      "cell_type": "markdown",
      "source": [
        "# Prediction Functions"
      ],
      "metadata": {
        "id": "37rIZ3t-7q5K"
      }
    },
    {
      "cell_type": "code",
      "source": [
        "def predict_tags(text):\n",
        "    # Tokenize the input text\n",
        "    tokens = word_tokenize(text)\n",
        "    # Remove punctuation\n",
        "    tokens = [token for token in tokens if token not in string.punctuation]\n",
        "    # Transform the tokens into feature vectors using the CountVectorizer or TfidfVectorizer\n",
        "    X = vectorizer.transform(tokens)\n",
        "\n",
        "    # Predict the output tags using the trained model\n",
        "    y_pred = clf.predict(X)\n",
        "\n",
        "    # Zip the tokens and predicted tags together into a list of tuples\n",
        "    results = list(zip(tokens, y_pred))\n",
        "\n",
        "    return results"
      ],
      "metadata": {
        "id": "dVxtegZl4zqr"
      },
      "execution_count": null,
      "outputs": []
    },
    {
      "cell_type": "code",
      "source": [
        "text = \"Can you please tell me where i can find the nearest italian restaurant.\"\n",
        "predicted_tags = predict_tags(text)\n",
        "\n",
        "for word, tag in predicted_tags:\n",
        "    print(f\"{word}: {tag}\")"
      ],
      "metadata": {
        "colab": {
          "base_uri": "https://localhost:8080/"
        },
        "id": "LniUnCy958nQ",
        "outputId": "960259df-38d1-45c5-cbf6-4b54c183f161"
      },
      "execution_count": null,
      "outputs": [
        {
          "output_type": "stream",
          "name": "stdout",
          "text": [
            "Can: 0\n",
            "you: 0\n",
            "please: 0\n",
            "tell: 0\n",
            "me: 0\n",
            "where: 0\n",
            "i: 0\n",
            "can: 0\n",
            "find: 0\n",
            "the: 0\n",
            "nearest: 5\n",
            "italian: 14\n",
            "restaurant: 0\n"
          ]
        }
      ]
    },
    {
      "cell_type": "code",
      "source": [
        "def predict_labels(text):\n",
        "    # Tokenize the input text\n",
        "    tokens = word_tokenize(text)\n",
        "    # Remove punctuation\n",
        "    tokens = [token for token in tokens if token not in string.punctuation]\n",
        "    # Transform the tokens into feature vectors using the CountVectorizer or TfidfVectorizer\n",
        "    X = vectorizer.transform(tokens)\n",
        "\n",
        "    # Predict the output tags using the trained model\n",
        "    y_pred = clf.predict(X)\n",
        "\n",
        "    # Map the predicted tags to their corresponding labels using the tag_to_entity dictionary\n",
        "    labels = []\n",
        "    for tag in y_pred:\n",
        "        if tag in tag_to_entity.values():\n",
        "            label = [k for k, v in tag_to_entity.items() if v == tag][0]\n",
        "        else:\n",
        "            label = 'O'\n",
        "        labels.append(label)\n",
        "\n",
        "    # Zip the tokens and predicted labels together into a list of tuples\n",
        "    results = list(zip(tokens, labels))\n",
        "\n",
        "    return results\n"
      ],
      "metadata": {
        "id": "BWmBPxeLKqSd"
      },
      "execution_count": null,
      "outputs": []
    },
    {
      "cell_type": "markdown",
      "source": [
        "# Text Prediction"
      ],
      "metadata": {
        "id": "VorkHgw57tH_"
      }
    },
    {
      "cell_type": "code",
      "source": [
        "text = \"Can you please tell me where i can find the nearest italian restaurant.\"\n",
        "predicted_labels = predict_labels(text)\n",
        "\n",
        "for word, label in predicted_labels:\n",
        "    print(f\"{word}: {label}\")\n"
      ],
      "metadata": {
        "colab": {
          "base_uri": "https://localhost:8080/"
        },
        "id": "T8b1jYDhK42R",
        "outputId": "aa8d5ca3-05c9-4832-b004-c753746d4711"
      },
      "execution_count": null,
      "outputs": [
        {
          "output_type": "stream",
          "name": "stdout",
          "text": [
            "Can: O\n",
            "you: O\n",
            "please: O\n",
            "tell: O\n",
            "me: O\n",
            "where: O\n",
            "i: O\n",
            "can: O\n",
            "find: O\n",
            "the: O\n",
            "nearest: B-Location\n",
            "italian: B-Cuisine\n",
            "restaurant: O\n"
          ]
        }
      ]
    },
    {
      "cell_type": "code",
      "source": [
        "text = \"are there any cheap cuban restaurants nearby\"\n",
        "predicted_tags = predict_tags(text)\n",
        "for word, tag in predicted_tags:\n",
        "    print(f\"{word}: {tag}\")\n",
        "print(\"------------------------------\")\n",
        "predicted_labels = predict_labels(text)\n",
        "for word, label in predicted_labels:\n",
        "    print(f\"{word}: {label}\")"
      ],
      "metadata": {
        "colab": {
          "base_uri": "https://localhost:8080/"
        },
        "id": "uCvBuWsj7_m9",
        "outputId": "334341ae-6a4e-4b2c-aed8-4899b5aa3713"
      },
      "execution_count": null,
      "outputs": [
        {
          "output_type": "stream",
          "name": "stdout",
          "text": [
            "are: 0\n",
            "there: 0\n",
            "any: 0\n",
            "cheap: 9\n",
            "cuban: 14\n",
            "restaurants: 0\n",
            "nearby: 5\n",
            "------------------------------\n",
            "are: O\n",
            "there: O\n",
            "any: O\n",
            "cheap: B-Price\n",
            "cuban: B-Cuisine\n",
            "restaurants: O\n",
            "nearby: B-Location\n"
          ]
        }
      ]
    },
    {
      "cell_type": "code",
      "source": [
        "# il existe autre technique pour réaliser une tâche de la NER comme :\n",
        "\n",
        "# Modèles de langue pré-entraînés : Des modèles de langue pré-entraînés tels que BERT, GPT, ELMO, XLNet et SpaCy ont montré de bonnes performances dans la NE\n",
        "# Réseaux de neurones récurrents (RNN) : Les RNN, tels que les réseaux de neurones LSTM (Long Short-Term Memory) et GRU (Gated Recurrent Unit)\n",
        "\n",
        "# Cependant, nous n'avons pas étudier ces techniques dans notre cours, nous avons utilisé juste le biblio NLTK"
      ],
      "metadata": {
        "id": "cX48Y6ERUsuz"
      },
      "execution_count": null,
      "outputs": []
    }
  ]
}